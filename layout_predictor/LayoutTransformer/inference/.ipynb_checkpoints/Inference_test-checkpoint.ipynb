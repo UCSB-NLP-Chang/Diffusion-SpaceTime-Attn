{
 "cells": [
  {
   "cell_type": "code",
   "execution_count": 212,
   "metadata": {},
   "outputs": [],
   "source": [
    "from loader import DataLoader\n",
    "from model import Rel2Layout, RelEncoder, Rel2Bbox, Rel2RegLayout\n",
    "from trainer import Trainer, PretrainTrainer, RegTrainer\n",
    "from utils import ensure_dir\n",
    "from loader import RelDataset, Rel2Layout_Dataset\n",
    "import argparse\n",
    "import pickle\n",
    "import json"
   ]
  },
  {
   "cell_type": "code",
   "execution_count": 213,
   "metadata": {},
   "outputs": [],
   "source": [
    "fn = 'data/vg_anns_45.pkl'\n",
    "ob_json_path = './data/vg/scene_graph/objects.json'\n",
    "rel_json_path = './data/vg/scene_graph/relationships.json'\n",
    "img_json_path = './data/vg/scene_graph/image_data.json'\n",
    "with open(fn, 'rb') as file:\n",
    "    all_anns = pickle.load(file)\n",
    "with open('data/rel_dict_45.pkl', 'rb') as file:\n",
    "    vocab_dict = pickle.load(file)\n",
    "with open('data/cls_dict_45.pkl', 'rb') as file:\n",
    "    cls_dict = pickle.load(file)\n",
    "with open(ob_json_path) as f:\n",
    "    ob_json = json.load(f)\n",
    "with open(rel_json_path) as f:\n",
    "    rel_json = json.load(f)\n",
    "with open(img_json_path) as f:\n",
    "    img_json = json.load(f)"
   ]
  },
  {
   "cell_type": "code",
   "execution_count": null,
   "metadata": {},
   "outputs": [],
   "source": []
  },
  {
   "cell_type": "code",
   "execution_count": 216,
   "metadata": {},
   "outputs": [
    {
     "name": "stdout",
     "output_type": "stream",
     "text": [
      "199\n",
      "dict_values(['[PAD]', '[CLS]', '[SEP]', '[MASK]', 'window', 'man', 'tree', 'shirt', 'person', 'wall', 'building', 'ground', 'sky', 'sign', 'head', 'grass', 'pole', 'light', 'hand', 'hair', 'leg', 'woman', 'car', 'table', 'trees', 'leaves', 'ear', 'people', 'pants', 'water', 'eye', 'door', 'shadow', 'fence', 'line', 'floor', 'nose', 'chair', 'wheel', 'handle', 'clouds', 'jacket', 'plate', 'arm', 'hat', 'shoe', 'tail', 'face', 'leaf', 'road', 'letter', 'windows', 'sidewalk', 'snow', 'shorts', 'flower', 'bag', 'street', 'helmet', 'field', 'boy', 'cloud', 'glass', 'tile', 'background', 'rock', 'logo', 'stripe', 'tire', 'roof', 'number', 'bottle', 'foot', 'spot', 'post', 'girl', 'mouth', 'umbrella', 'boat', 'part', 'picture', 'legs', 'dirt', 'food', 'glasses', 'cap', 'flowers', 'jeans', 'lights', 'mirror', 'bench', 'top', 'box', 'clock', 'shoes', 'bird', 'bush', 'button', 'brick', 'bowl', 'neck', 'bus', 'edge', 'train', 'trunk', 'shelf', 'lines', 'reflection', 'writing', 'pillow', 'plant', 'letters', 'horse', 'lamp', 'board', 'coat', 'kite', 'counter', 'paper', 'cup', 'elephant', 'house', 'branch', 'flag', 'seat', 'dog', 'sheep', 'wing', 'giraffe', 'headlight', 'tracks', 'glove', 'stripes', 'cow', 'rocks', 'banana', 'book', 'back', 'ball', 'frame', 'ceiling', 'cabinet', 'truck', 'hill', 'zebra', 'sand', 'sunglasses', 'bike', 'wave', 'skateboard', 'design', 'feet', 'eyes', 'windshield'])\n"
     ]
    }
   ],
   "source": [
    "def idx2vocab(idx, modality):\n",
    "    sent = []\n",
    "    for i in range(len(idx)):\n",
    "        if modality == 'text':\n",
    "            sent.append(vocab_dict[idx[i]])\n",
    "        else:\n",
    "            sent.append(cls_dict[idx[i]])\n",
    "    return sent\n",
    "print(len(vocab_dict.values()))\n",
    "print(cls_dict.values())"
   ]
  },
  {
   "cell_type": "code",
   "execution_count": 202,
   "metadata": {},
   "outputs": [
    {
     "name": "stdout",
     "output_type": "stream",
     "text": [
      "[1023838, 5071, 1023836, 1023841, 5074, 5075, 5076, 5077, 1023819, 5080, 5081, 5082, 5083, 5084, 5085, 1023823, 5088, 5089, 5069, 5090]\n",
      "['man', 'backpack', 'car', 'road', 'tree', 'tree', 'tree', 'crosswalk', 'building', 'window', 'window', 'window', 'window', 'window', 'car', 'sign', 'sneakers', 'bike', 'walk sign', '\"walk\"']\n",
      "[[324 320 466 575]\n",
      " [359 362 431 443]\n",
      " [239 347 375 473]\n",
      " [  3 321 375 600]\n",
      " [  0 146  73 369]\n",
      " [ 58 155 119 356]\n",
      " [110 195 193 358]\n",
      " [  0 492 366 599]\n",
      " [547   4 798 388]\n",
      " [645  60 744 239]\n",
      " [742  71 799 230]\n",
      " [644 259 749 373]\n",
      " [746 259 798 367]\n",
      " [628  64 654 243]\n",
      " [346 327 432 403]\n",
      " [230 287 252 354]\n",
      " [339 533 471 570]\n",
      " [415 403 448 472]\n",
      " [463 141 506 244]\n",
      " [471 193 502 208]]\n",
      "[{'predicate': 'wears', 'object': {'name': 'backpack', 'h': 81, 'object_id': 5071, 'synsets': ['backpack.n.01'], 'w': 72, 'y': 362, 'x': 359}, 'relationship_id': 15947, 'synsets': ['wear.v.01'], 'subject': {'name': 'man', 'h': 255, 'object_id': 1023838, 'synsets': ['man.n.01'], 'w': 142, 'y': 320, 'x': 324}}, {'predicate': 'parked on', 'object': {'name': 'road', 'h': 279, 'object_id': 1023841, 'synsets': ['road.n.01'], 'w': 372, 'y': 321, 'x': 3}, 'relationship_id': 15948, 'synsets': ['along.r.01'], 'subject': {'name': 'car', 'h': 126, 'object_id': 1023836, 'synsets': ['car.n.01'], 'w': 136, 'y': 347, 'x': 239}}, {'predicate': 'next to', 'object': {'name': 'road', 'h': 279, 'object_id': 1023841, 'synsets': ['road.n.01'], 'w': 372, 'y': 321, 'x': 3}, 'relationship_id': 15949, 'synsets': ['next.r.01'], 'subject': {'name': 'tree', 'h': 223, 'object_id': 5074, 'synsets': ['tree.n.01'], 'w': 73, 'y': 146, 'x': 0}}, {'predicate': 'next to', 'object': {'name': 'road', 'h': 279, 'object_id': 1023841, 'synsets': ['road.n.01'], 'w': 372, 'y': 321, 'x': 3}, 'relationship_id': 15950, 'synsets': ['next.r.01'], 'subject': {'name': 'tree', 'h': 201, 'object_id': 5075, 'synsets': ['tree.n.01'], 'w': 61, 'y': 155, 'x': 58}}, {'predicate': 'next to', 'object': {'name': 'road', 'h': 279, 'object_id': 1023841, 'synsets': ['road.n.01'], 'w': 372, 'y': 321, 'x': 3}, 'relationship_id': 15951, 'synsets': ['next.r.01'], 'subject': {'name': 'tree', 'h': 163, 'object_id': 5076, 'synsets': ['tree.n.01'], 'w': 83, 'y': 195, 'x': 110}}, {'predicate': 'in front of', 'object': {'name': 'man', 'h': 255, 'object_id': 1023838, 'synsets': ['man.n.01'], 'w': 142, 'y': 320, 'x': 324}, 'relationship_id': 15952, 'synsets': ['in.r.01'], 'subject': {'name': 'crosswalk', 'h': 107, 'object_id': 5077, 'synsets': ['crossing.n.05'], 'w': 366, 'y': 492, 'x': 0}}, {'predicate': 'has', 'object': {'name': 'window', 'h': 179, 'object_id': 5080, 'synsets': ['window.n.01'], 'w': 99, 'y': 60, 'x': 645}, 'relationship_id': 15953, 'synsets': ['have.v.01'], 'subject': {'name': 'building', 'h': 384, 'object_id': 1023819, 'synsets': ['building.n.01'], 'w': 251, 'y': 4, 'x': 547}}, {'predicate': 'has', 'object': {'name': 'window', 'h': 159, 'object_id': 5081, 'synsets': ['window.n.01'], 'w': 57, 'y': 71, 'x': 742}, 'relationship_id': 15954, 'synsets': ['have.v.01'], 'subject': {'name': 'building', 'h': 384, 'object_id': 1023819, 'synsets': ['building.n.01'], 'w': 251, 'y': 4, 'x': 547}}, {'predicate': 'has', 'object': {'name': 'window', 'h': 114, 'object_id': 5082, 'synsets': ['window.n.01'], 'w': 105, 'y': 259, 'x': 644}, 'relationship_id': 15955, 'synsets': ['have.v.01'], 'subject': {'name': 'building', 'h': 384, 'object_id': 1023819, 'synsets': ['building.n.01'], 'w': 251, 'y': 4, 'x': 547}}, {'predicate': 'has', 'object': {'name': 'window', 'h': 108, 'object_id': 5083, 'synsets': ['window.n.01'], 'w': 52, 'y': 259, 'x': 746}, 'relationship_id': 15956, 'synsets': ['have.v.01'], 'subject': {'name': 'building', 'h': 384, 'object_id': 1023819, 'synsets': ['building.n.01'], 'w': 251, 'y': 4, 'x': 547}}, {'predicate': 'has', 'object': {'name': 'window', 'h': 179, 'object_id': 5084, 'synsets': ['window.n.01'], 'w': 26, 'y': 64, 'x': 628}, 'relationship_id': 15957, 'synsets': ['have.v.01'], 'subject': {'name': 'building', 'h': 384, 'object_id': 1023819, 'synsets': ['building.n.01'], 'w': 251, 'y': 4, 'x': 547}}, {'predicate': 'parked on', 'object': {'name': 'road', 'h': 279, 'object_id': 1023841, 'synsets': ['road.n.01'], 'w': 372, 'y': 321, 'x': 3}, 'relationship_id': 15958, 'synsets': ['along.r.01'], 'subject': {'name': 'car', 'h': 76, 'object_id': 5085, 'synsets': ['car.n.01'], 'w': 86, 'y': 327, 'x': 346}}, {'predicate': 'next to', 'object': {'name': 'road', 'h': 279, 'object_id': 1023841, 'synsets': ['road.n.01'], 'w': 372, 'y': 321, 'x': 3}, 'relationship_id': 15959, 'synsets': ['next.r.01'], 'subject': {'name': 'sign', 'h': 67, 'object_id': 1023823, 'synsets': ['sign.n.02'], 'w': 22, 'y': 287, 'x': 230}}, {'predicate': 'along', 'object': {'name': 'road', 'h': 279, 'object_id': 1023841, 'synsets': ['road.n.01'], 'w': 372, 'y': 321, 'x': 3}, 'relationship_id': 15960, 'synsets': ['along.r.01'], 'subject': {'name': 'tree', 'h': 223, 'object_id': 5074, 'synsets': ['tree.n.01'], 'w': 73, 'y': 146, 'x': 0}}, {'predicate': 'along', 'object': {'name': 'road', 'h': 279, 'object_id': 1023841, 'synsets': ['road.n.01'], 'w': 372, 'y': 321, 'x': 3}, 'relationship_id': 15961, 'synsets': ['along.r.01'], 'subject': {'name': 'tree', 'h': 201, 'object_id': 5075, 'synsets': ['tree.n.01'], 'w': 61, 'y': 155, 'x': 58}}, {'predicate': 'along', 'object': {'name': 'road', 'h': 279, 'object_id': 1023841, 'synsets': ['road.n.01'], 'w': 372, 'y': 321, 'x': 3}, 'relationship_id': 15962, 'synsets': ['along.r.01'], 'subject': {'name': 'tree', 'h': 163, 'object_id': 5076, 'synsets': ['tree.n.01'], 'w': 83, 'y': 195, 'x': 110}}, {'predicate': 'wears', 'object': {'name': 'sneakers', 'h': 37, 'object_id': 5088, 'synsets': ['gym_shoe.n.01'], 'w': 132, 'y': 533, 'x': 339}, 'relationship_id': 15963, 'synsets': ['wear.v.01'], 'subject': {'name': 'man', 'h': 255, 'object_id': 1023838, 'synsets': ['man.n.01'], 'w': 142, 'y': 320, 'x': 324}}, {'predicate': 'carries', 'object': {'name': 'backpack', 'h': 81, 'object_id': 5071, 'synsets': ['backpack.n.01'], 'w': 72, 'y': 362, 'x': 359}, 'relationship_id': 15964, 'synsets': ['transport.v.02'], 'subject': {'name': 'man', 'h': 255, 'object_id': 1023838, 'synsets': ['man.n.01'], 'w': 142, 'y': 320, 'x': 324}}, {'predicate': 'next to', 'object': {'name': 'car', 'h': 126, 'object_id': 1023836, 'synsets': ['car.n.01'], 'w': 136, 'y': 347, 'x': 239}, 'relationship_id': 15965, 'synsets': ['next.r.01'], 'subject': {'name': 'bike', 'h': 69, 'object_id': 5089, 'synsets': ['bicycle.n.01'], 'w': 33, 'y': 403, 'x': 415}}, {'predicate': 'parked on', 'object': {'name': 'road', 'h': 279, 'object_id': 1023841, 'synsets': ['road.n.01'], 'w': 372, 'y': 321, 'x': 3}, 'relationship_id': 15969, 'synsets': ['along.r.01'], 'subject': {'name': 'car', 'h': 126, 'object_id': 1023836, 'synsets': ['car.n.01'], 'w': 136, 'y': 347, 'x': 239}}, {'predicate': 'at', 'object': {'name': 'crosswalk', 'h': 107, 'object_id': 5077, 'synsets': ['crossing.n.05'], 'w': 366, 'y': 492, 'x': 0}, 'relationship_id': 15970, 'synsets': [], 'subject': {'name': 'man', 'h': 255, 'object_id': 1023838, 'synsets': ['man.n.01'], 'w': 142, 'y': 320, 'x': 324}}, {'predicate': 'ON', 'object': {'name': 'road', 'h': 279, 'object_id': 1023841, 'synsets': ['road.n.01'], 'w': 372, 'y': 321, 'x': 3}, 'relationship_id': 15971, 'synsets': ['along.r.01'], 'subject': {'name': 'crosswalk', 'h': 107, 'object_id': 5077, 'synsets': ['crossing.n.05'], 'w': 366, 'y': 492, 'x': 0}}, {'predicate': 'says', 'object': {'name': '\"walk\"', 'h': 15, 'object_id': 5090, 'synsets': ['walk.n.01'], 'w': 31, 'y': 193, 'x': 471}, 'relationship_id': 15972, 'synsets': ['state.v.01'], 'subject': {'name': 'walk sign', 'h': 103, 'object_id': 5069, 'synsets': [], 'w': 43, 'y': 141, 'x': 463}}]\n"
     ]
    }
   ],
   "source": [
    "gt_class_id = []\n",
    "gt_class_name = []\n",
    "\n",
    "gt_boxes = []\n",
    "for rel in rel_json[1]['relationships']:\n",
    "  if rel['subject']['object_id'] not in gt_class_id:\n",
    "    gt_class_id.append(rel['subject']['object_id'])\n",
    "    gt_class_name.append(rel['subject']['name'])\n",
    "    gt_boxes.append([rel['subject']['x'],rel['subject']['y'],rel['subject']['w'],rel['subject']['h']])\n",
    "  if rel['object']['object_id'] not in gt_class_id:\n",
    "    gt_class_id.append(rel['object']['object_id'])\n",
    "    gt_class_name.append(rel['object']['name'])\n",
    "    gt_boxes.append([rel['object']['x'],rel['object']['y'],rel['object']['w'],rel['object']['h']])\n",
    "gt_boxes = np.array(gt_boxes)\n",
    "gt_boxes[:,2:] = gt_boxes[:,:2] + gt_boxes[:,2:]\n",
    "print(gt_class_id)\n",
    "print(gt_class_name)\n",
    "print(gt_boxes)\n",
    "print(rel_json[1]['relationships'])"
   ]
  },
  {
   "cell_type": "code",
   "execution_count": 217,
   "metadata": {
    "scrolled": true
   },
   "outputs": [
    {
     "name": "stdout",
     "output_type": "stream",
     "text": [
      "['[CLS]', 'car', 'has', 'headlight', '[SEP]', 'sign', 'ON', 'building', '[SEP]', 'man', 'has', 'shirt', '[SEP]', 'sidewalk', 'next to', 'street', '[SEP]', 'car', 'has', 'back', '[SEP]', 'man', 'has', 'glasses', '[SEP]', 'man', 'has', 'shoes', '[SEP]', 'man', 'wears', 'pants', '[SEP]', 'man', 'has', 'jacket', '[SEP]', 'man', 'has', 'pants', '[SEP]', 'bike', 'ON', 'sidewalk', '[SEP]', 'shirt', 'ON', 'man', '[SEP]', 'man', 'WEARING', 'glasses', '[SEP]', 'tree', 'next to', 'street', '[SEP]', 'trees', 'by', 'sidewalk', '[SEP]', 'building', 'with', 'windows', '[SEP]', '[PAD]', '[PAD]', '[PAD]', '[PAD]', '[PAD]', '[PAD]', '[PAD]', '[PAD]', '[PAD]', '[PAD]', '[PAD]', '[PAD]', '[PAD]', '[PAD]', '[PAD]', '[PAD]', '[PAD]', '[PAD]', '[PAD]', '[PAD]', '[PAD]', '[PAD]', '[PAD]', '[PAD]', '[PAD]', '[PAD]', '[PAD]', '[PAD]', '[PAD]', '[PAD]', '[PAD]', '[PAD]', '[PAD]', '[PAD]', '[PAD]', '[PAD]', '[PAD]', '[PAD]', '[PAD]', '[PAD]', '[PAD]', '[PAD]', '[PAD]', '[PAD]', '[PAD]', '[PAD]', '[PAD]', '[PAD]', '[PAD]', '[PAD]', '[PAD]', '[PAD]', '[PAD]', '[PAD]', '[PAD]', '[PAD]', '[PAD]', '[PAD]', '[PAD]', '[PAD]', '[PAD]', '[PAD]', '[PAD]']\n",
      "['car', 'headlight', 'sign', 'building', 'man', 'shirt', 'sidewalk', 'street', 'car', 'back', 'man', 'glasses', 'man', 'shoes', 'man', 'pants', 'man', 'jacket', 'man', 'pants', 'bike', 'sidewalk', 'shirt', 'man', 'man', 'glasses', 'tree', 'street', 'trees', 'sidewalk', 'building', 'windows']\n",
      "['[CLS]', 'sign', 'windows', 'tree', 'building', 'glasses', 'trees', 'shirt', 'bike', 'jacket', 'headlight', 'car', 'man', 'man', 'pants', 'sidewalk', 'pants', 'man', 'street', 'car', 'back', 'shoes', 'sidewalk', '[SEP]', '[PAD]', '[PAD]', '[PAD]', '[PAD]', '[PAD]', '[PAD]', '[PAD]', '[PAD]', '[PAD]', '[PAD]', '[PAD]', '[PAD]', '[PAD]', '[PAD]', '[PAD]', '[PAD]', '[PAD]', '[PAD]', '[PAD]', '[PAD]', '[PAD]', '[PAD]', '[PAD]', '[PAD]', '[PAD]', '[PAD]', '[PAD]', '[PAD]', '[PAD]', '[PAD]', '[PAD]', '[PAD]', '[PAD]', '[PAD]', '[PAD]', '[PAD]', '[PAD]', '[PAD]', '[PAD]', '[PAD]', '[PAD]', '[PAD]', '[PAD]', '[PAD]', '[PAD]', '[PAD]', '[PAD]', '[PAD]', '[PAD]', '[PAD]', '[PAD]', '[PAD]', '[PAD]', '[PAD]', '[PAD]', '[PAD]', '[PAD]', '[PAD]', '[PAD]', '[PAD]', '[PAD]', '[PAD]', '[PAD]', '[PAD]', '[PAD]', '[PAD]', '[PAD]', '[PAD]', '[PAD]', '[PAD]', '[PAD]', '[PAD]', '[PAD]', '[PAD]', '[PAD]', '[PAD]', '[PAD]', '[PAD]', '[PAD]', '[PAD]', '[PAD]', '[PAD]', '[PAD]', '[PAD]', '[PAD]', '[PAD]', '[PAD]', '[PAD]', '[PAD]', '[PAD]', '[PAD]', '[PAD]', '[PAD]', '[PAD]', '[PAD]', '[PAD]', '[PAD]', '[PAD]', '[PAD]', '[PAD]', '[PAD]', '[PAD]', '[PAD]', '[PAD]']\n",
      "[ 0 11  0 10  0  1  0  4  0 13  0  7  0 22  0 18  0 19  0 20  0 13  0  5\n",
      "  0 17  0 21  0 13  0 14  0 17  0  9  0 17  0 16  0  8  0 15  0  7  0 13\n",
      "  0 12  0  5  0  3  0 18  0  6  0 22  0  4  0  2  0  0  0  0  0  0  0  0\n",
      "  0  0  0  0  0  0  0  0  0  0  0  0  0  0  0  0  0  0  0  0  0  0  0  0\n",
      "  0  0  0  0  0  0  0  0  0  0  0  0  0  0  0  0  0  0  0  0  0  0  0  0\n",
      "  0  0  0  0  0  0  0  0]\n",
      "1\n",
      "[800, 600]\n",
      "[[2.0, 2.0, 2.0, 2.0], [0.59875, 0.525, 0.0925, 0.16333333333333333], [2.0, 2.0, 2.0, 2.0], [0.6425, 0.61, 0.02875, 0.025], [2.0, 2.0, 2.0, 2.0], [0.1475, 0.021666666666666667, 0.11, 0.30333333333333334], [2.0, 2.0, 2.0, 2.0], [0.00125, 0.0033333333333333335, 0.2725, 0.8933333333333333], [2.0, 2.0, 2.0, 2.0], [0.2975, 0.415, 0.075, 0.43666666666666665], [2.0, 2.0, 2.0, 2.0], [0.30125, 0.4816666666666667, 0.07375, 0.16833333333333333], [2.0, 2.0, 2.0, 2.0], [0.09625, 0.5516666666666666, 0.9025, 0.44333333333333336], [2.0, 2.0, 2.0, 2.0], [0.4475, 0.4716666666666667, 0.55, 0.3883333333333333], [2.0, 2.0, 2.0, 2.0], [0.885, 0.57, 0.11375, 0.29], [2.0, 2.0, 2.0, 2.0], [0.90125, 0.565, 0.08375, 0.2833333333333333], [2.0, 2.0, 2.0, 2.0], [0.2975, 0.415, 0.075, 0.43666666666666665], [2.0, 2.0, 2.0, 2.0], [0.33875, 0.44666666666666666, 0.025, 0.02], [2.0, 2.0, 2.0, 2.0], [0.465, 0.44, 0.09375, 0.41833333333333333], [2.0, 2.0, 2.0, 2.0], [0.48875, 0.8016666666666666, 0.0575, 0.056666666666666664], [2.0, 2.0, 2.0, 2.0], [0.2975, 0.415, 0.075, 0.43666666666666665], [2.0, 2.0, 2.0, 2.0], [0.30625, 0.64, 0.0475, 0.19666666666666666], [2.0, 2.0, 2.0, 2.0], [0.465, 0.44, 0.09375, 0.41833333333333333], [2.0, 2.0, 2.0, 2.0], [0.445, 0.49333333333333335, 0.11125, 0.16166666666666665], [2.0, 2.0, 2.0, 2.0], [0.465, 0.44, 0.09375, 0.41833333333333333], [2.0, 2.0, 2.0, 2.0], [0.4775, 0.615, 0.0675, 0.21333333333333335], [2.0, 2.0, 2.0, 2.0], [0.4175, 0.5316666666666666, 0.03625, 0.058333333333333334], [2.0, 2.0, 2.0, 2.0], [0.42875, 0.53, 0.0625, 0.315], [2.0, 2.0, 2.0, 2.0], [0.30125, 0.4816666666666667, 0.07375, 0.16833333333333333], [2.0, 2.0, 2.0, 2.0], [0.2975, 0.415, 0.075, 0.43666666666666665], [2.0, 2.0, 2.0, 2.0], [0.2875, 0.41833333333333333, 0.09, 0.44], [2.0, 2.0, 2.0, 2.0], [0.33875, 0.44666666666666666, 0.025, 0.02], [2.0, 2.0, 2.0, 2.0], [0.31125, 0.0, 0.22, 0.6], [2.0, 2.0, 2.0, 2.0], [0.4475, 0.4716666666666667, 0.55, 0.3883333333333333], [2.0, 2.0, 2.0, 2.0], [0.2375, 0.0, 0.7575, 0.9283333333333333], [2.0, 2.0, 2.0, 2.0], [0.09625, 0.5516666666666666, 0.9025, 0.44333333333333336], [2.0, 2.0, 2.0, 2.0], [0.00125, 0.0033333333333333335, 0.2725, 0.8933333333333333], [2.0, 2.0, 2.0, 2.0], [0.7525, 0.006666666666666667, 0.21625, 0.24666666666666667], [2.0, 2.0, 2.0, 2.0], [2.0, 2.0, 2.0, 2.0], [2.0, 2.0, 2.0, 2.0], [2.0, 2.0, 2.0, 2.0], [2.0, 2.0, 2.0, 2.0], [2.0, 2.0, 2.0, 2.0], [2.0, 2.0, 2.0, 2.0], [2.0, 2.0, 2.0, 2.0], [2.0, 2.0, 2.0, 2.0], [2.0, 2.0, 2.0, 2.0], [2.0, 2.0, 2.0, 2.0], [2.0, 2.0, 2.0, 2.0], [2.0, 2.0, 2.0, 2.0], [2.0, 2.0, 2.0, 2.0], [2.0, 2.0, 2.0, 2.0], [2.0, 2.0, 2.0, 2.0], [2.0, 2.0, 2.0, 2.0], [2.0, 2.0, 2.0, 2.0], [2.0, 2.0, 2.0, 2.0], [2.0, 2.0, 2.0, 2.0], [2.0, 2.0, 2.0, 2.0], [2.0, 2.0, 2.0, 2.0], [2.0, 2.0, 2.0, 2.0], [2.0, 2.0, 2.0, 2.0], [2.0, 2.0, 2.0, 2.0], [2.0, 2.0, 2.0, 2.0], [2.0, 2.0, 2.0, 2.0], [2.0, 2.0, 2.0, 2.0], [2.0, 2.0, 2.0, 2.0], [2.0, 2.0, 2.0, 2.0], [2.0, 2.0, 2.0, 2.0], [2.0, 2.0, 2.0, 2.0], [2.0, 2.0, 2.0, 2.0], [2.0, 2.0, 2.0, 2.0], [2.0, 2.0, 2.0, 2.0], [2.0, 2.0, 2.0, 2.0], [2.0, 2.0, 2.0, 2.0], [2.0, 2.0, 2.0, 2.0], [2.0, 2.0, 2.0, 2.0], [2.0, 2.0, 2.0, 2.0], [2.0, 2.0, 2.0, 2.0], [2.0, 2.0, 2.0, 2.0], [2.0, 2.0, 2.0, 2.0], [2.0, 2.0, 2.0, 2.0], [2.0, 2.0, 2.0, 2.0], [2.0, 2.0, 2.0, 2.0], [2.0, 2.0, 2.0, 2.0], [2.0, 2.0, 2.0, 2.0], [2.0, 2.0, 2.0, 2.0], [2.0, 2.0, 2.0, 2.0], [2.0, 2.0, 2.0, 2.0], [2.0, 2.0, 2.0, 2.0], [2.0, 2.0, 2.0, 2.0], [2.0, 2.0, 2.0, 2.0], [2.0, 2.0, 2.0, 2.0], [2.0, 2.0, 2.0, 2.0], [2.0, 2.0, 2.0, 2.0], [2.0, 2.0, 2.0, 2.0], [2.0, 2.0, 2.0, 2.0], [2.0, 2.0, 2.0, 2.0], [2.0, 2.0, 2.0, 2.0], [2.0, 2.0, 2.0, 2.0], [2.0, 2.0, 2.0, 2.0], [2.0, 2.0, 2.0, 2.0]]\n",
      "87961\n",
      "87961\n"
     ]
    }
   ],
   "source": [
    "print(idx2vocab(all_anns['rel'][0],'text'))\n",
    "print(idx2vocab(all_anns['rel'][0][1::2][all_anns['rel'][0][1::2] != 0],'text'))\n",
    "print(idx2vocab(all_anns['cls'][0],'image'))\n",
    "print(all_anns['id'][0])\n",
    "print(all_anns['image_id'][0])\n",
    "print(all_anns['image_wh'][0])\n",
    "print(all_anns['rel_box'][0])\n",
    "print(len(all_anns['rel']))\n",
    "print(len(all_anns['image_id']))"
   ]
  },
  {
   "cell_type": "code",
   "execution_count": 196,
   "metadata": {},
   "outputs": [],
   "source": [
    "import cv2\n",
    "from bounding_box import bounding_box as bb\n",
    "import os\n",
    "\n",
    "def show_and_save(image, path):\n",
    "    cv2.imwrite(path, image)"
   ]
  },
  {
   "cell_type": "code",
   "execution_count": 197,
   "metadata": {},
   "outputs": [],
   "source": [
    "size = [all_anns['image_wh'][0][1],all_anns['image_wh'][0][0],3]\n",
    "box_mask = np.array(all_anns['rel_box'][0]) != 2.\n",
    "boxes = np.array(all_anns['rel_box'][0])[box_mask].reshape(-1,4)\n",
    "id_mask = np.array(all_anns['id'][0]) != 0.\n",
    "ids = np.array(all_anns['id'][0])[id_mask]\n",
    "clss = idx2vocab(all_anns['rel'][0][1::2][all_anns['rel'][0][1::2] != 0],'text')"
   ]
  },
  {
   "cell_type": "code",
   "execution_count": 198,
   "metadata": {},
   "outputs": [],
   "source": [
    "boxes[:,:2] = boxes[:,:2] \n",
    "boxes[:,2:] = boxes[:,:2] + boxes[:,2:]"
   ]
  },
  {
   "cell_type": "code",
   "execution_count": 199,
   "metadata": {},
   "outputs": [],
   "source": [
    "boxes[:,0] *= all_anns['image_wh'][0][0]\n",
    "boxes[:,1] *= all_anns['image_wh'][0][1]\n",
    "boxes[:,2] *= all_anns['image_wh'][0][0]\n",
    "boxes[:,3] *= all_anns['image_wh'][0][1]"
   ]
  },
  {
   "cell_type": "code",
   "execution_count": 200,
   "metadata": {},
   "outputs": [
    {
     "name": "stdout",
     "output_type": "stream",
     "text": [
      "[[  0. 146.  73. 369.]\n",
      " [  3. 321. 375. 600.]\n",
      " [ 58. 155. 119. 356.]\n",
      " [  3. 321. 375. 600.]\n",
      " [110. 195. 193. 358.]\n",
      " [  3. 321. 375. 600.]\n",
      " [547.   4. 798. 388.]\n",
      " [645.  60. 744. 239.]\n",
      " [547.   4. 798. 388.]\n",
      " [742.  71. 799. 230.]\n",
      " [547.   4. 798. 388.]\n",
      " [644. 259. 749. 373.]\n",
      " [547.   4. 798. 388.]\n",
      " [746. 259. 798. 367.]\n",
      " [547.   4. 798. 388.]\n",
      " [628.  64. 654. 243.]\n",
      " [230. 287. 252. 354.]\n",
      " [  3. 321. 375. 600.]\n",
      " [415. 403. 448. 472.]\n",
      " [239. 347. 375. 473.]]\n",
      "[[324 320 466 575]\n",
      " [359 362 431 443]\n",
      " [239 347 375 473]\n",
      " [  3 321 375 600]\n",
      " [  0 146  73 369]\n",
      " [ 58 155 119 356]\n",
      " [110 195 193 358]\n",
      " [  0 492 366 599]\n",
      " [547   4 798 388]\n",
      " [645  60 744 239]\n",
      " [742  71 799 230]\n",
      " [644 259 749 373]\n",
      " [746 259 798 367]\n",
      " [628  64 654 243]\n",
      " [346 327 432 403]\n",
      " [230 287 252 354]\n",
      " [339 533 471 570]\n",
      " [415 403 448 472]\n",
      " [463 141 506 244]\n",
      " [471 193 502 208]]\n"
     ]
    }
   ],
   "source": [
    "print(boxes)\n",
    "print(gt_boxes)\n",
    "image = np.full(size, 200.)\n",
    "gt_image = np.full(size, 200.)\n",
    "\n",
    "for i in range(len(boxes)):\n",
    "  bb.add(image, boxes[i][0], boxes[i][1], boxes[i][2], boxes[i][3], str(clss[i]))\n",
    "for i in range(len(gt_boxes)):\n",
    "  bb.add(gt_image, gt_boxes[i][0], gt_boxes[i][1], gt_boxes[i][2], gt_boxes[i][3], str(gt_class_name[i]))"
   ]
  },
  {
   "cell_type": "code",
   "execution_count": 201,
   "metadata": {},
   "outputs": [],
   "source": [
    "show_and_save(image, './test.png')\n",
    "show_and_save(gt_image, './test_gt.png')"
   ]
  },
  {
   "cell_type": "code",
   "execution_count": null,
   "metadata": {},
   "outputs": [],
   "source": []
  },
  {
   "cell_type": "code",
   "execution_count": 218,
   "metadata": {},
   "outputs": [
    {
     "ename": "SyntaxError",
     "evalue": "invalid syntax (<ipython-input-218-171e17603f20>, line 3)",
     "output_type": "error",
     "traceback": [
      "\u001b[0;36m  File \u001b[0;32m\"<ipython-input-218-171e17603f20>\"\u001b[0;36m, line \u001b[0;32m3\u001b[0m\n\u001b[0;31m    KLDivLoss v2\u001b[0m\n\u001b[0m               ^\u001b[0m\n\u001b[0;31mSyntaxError\u001b[0m\u001b[0;31m:\u001b[0m invalid syntax\n"
     ]
    }
   ],
   "source": []
  },
  {
   "cell_type": "code",
   "execution_count": 222,
   "metadata": {},
   "outputs": [
    {
     "ename": "NameError",
     "evalue": "name 'baxes' is not defined",
     "output_type": "error",
     "traceback": [
      "\u001b[0;31m---------------------------------------------------------------------------\u001b[0m",
      "\u001b[0;31mNameError\u001b[0m                                 Traceback (most recent call last)",
      "\u001b[0;32m<ipython-input-222-722759ca7e2e>\u001b[0m in \u001b[0;36m<module>\u001b[0;34m\u001b[0m\n\u001b[1;32m     72\u001b[0m         \u001b[0mall_anns\u001b[0m \u001b[0;34m=\u001b[0m \u001b[0mpickle\u001b[0m\u001b[0;34m.\u001b[0m\u001b[0mload\u001b[0m\u001b[0;34m(\u001b[0m\u001b[0mfile\u001b[0m\u001b[0;34m)\u001b[0m\u001b[0;34m\u001b[0m\u001b[0;34m\u001b[0m\u001b[0m\n\u001b[1;32m     73\u001b[0m     \u001b[0minfer\u001b[0m \u001b[0;34m=\u001b[0m \u001b[0mInference\u001b[0m\u001b[0;34m(\u001b[0m\u001b[0msave_dir\u001b[0m \u001b[0;34m=\u001b[0m \u001b[0;34m'./'\u001b[0m\u001b[0;34m)\u001b[0m\u001b[0;34m\u001b[0m\u001b[0;34m\u001b[0m\u001b[0m\n\u001b[0;32m---> 74\u001b[0;31m     \u001b[0minfer\u001b[0m\u001b[0;34m.\u001b[0m\u001b[0mcheck_GT\u001b[0m\u001b[0;34m(\u001b[0m\u001b[0;36m0\u001b[0m\u001b[0;34m,\u001b[0m \u001b[0mall_anns\u001b[0m\u001b[0;34m)\u001b[0m\u001b[0;34m\u001b[0m\u001b[0;34m\u001b[0m\u001b[0m\n\u001b[0m",
      "\u001b[0;32m<ipython-input-222-722759ca7e2e>\u001b[0m in \u001b[0;36mcheck_GT\u001b[0;34m(self, idx, all_anns)\u001b[0m\n\u001b[1;32m     36\u001b[0m         \u001b[0mclss\u001b[0m \u001b[0;34m=\u001b[0m \u001b[0midx2vocab\u001b[0m\u001b[0;34m(\u001b[0m\u001b[0mall_anns\u001b[0m\u001b[0;34m[\u001b[0m\u001b[0;34m'rel'\u001b[0m\u001b[0;34m]\u001b[0m\u001b[0;34m[\u001b[0m\u001b[0midx\u001b[0m\u001b[0;34m]\u001b[0m\u001b[0;34m[\u001b[0m\u001b[0;36m1\u001b[0m\u001b[0;34m:\u001b[0m\u001b[0;34m:\u001b[0m\u001b[0;36m2\u001b[0m\u001b[0;34m]\u001b[0m\u001b[0;34m[\u001b[0m\u001b[0mall_anns\u001b[0m\u001b[0;34m[\u001b[0m\u001b[0;34m'rel'\u001b[0m\u001b[0;34m]\u001b[0m\u001b[0;34m[\u001b[0m\u001b[0midx\u001b[0m\u001b[0;34m]\u001b[0m\u001b[0;34m[\u001b[0m\u001b[0;36m1\u001b[0m\u001b[0;34m:\u001b[0m\u001b[0;34m:\u001b[0m\u001b[0;36m2\u001b[0m\u001b[0;34m]\u001b[0m \u001b[0;34m!=\u001b[0m \u001b[0;36m0\u001b[0m\u001b[0;34m]\u001b[0m\u001b[0;34m,\u001b[0m\u001b[0;34m'text'\u001b[0m\u001b[0;34m)\u001b[0m\u001b[0;34m\u001b[0m\u001b[0;34m\u001b[0m\u001b[0m\n\u001b[1;32m     37\u001b[0m \u001b[0;34m\u001b[0m\u001b[0m\n\u001b[0;32m---> 38\u001b[0;31m         \u001b[0mself\u001b[0m\u001b[0;34m.\u001b[0m\u001b[0mdraw_img\u001b[0m\u001b[0;34m(\u001b[0m\u001b[0mbaxes\u001b[0m\u001b[0;34m=\u001b[0m\u001b[0mbaxes\u001b[0m\u001b[0;34m,\u001b[0m \u001b[0mlabels\u001b[0m\u001b[0;34m=\u001b[0m\u001b[0mclss\u001b[0m\u001b[0;34m,\u001b[0m \u001b[0msave_dir\u001b[0m \u001b[0;34m=\u001b[0m \u001b[0mself\u001b[0m\u001b[0;34m.\u001b[0m\u001b[0msave_dir\u001b[0m\u001b[0;34m,\u001b[0m \u001b[0mname\u001b[0m\u001b[0;34m=\u001b[0m\u001b[0mimage_id\u001b[0m\u001b[0;34m)\u001b[0m\u001b[0;34m\u001b[0m\u001b[0;34m\u001b[0m\u001b[0m\n\u001b[0m\u001b[1;32m     39\u001b[0m \u001b[0;34m\u001b[0m\u001b[0m\n\u001b[1;32m     40\u001b[0m     \u001b[0;32mdef\u001b[0m \u001b[0mdraw_img\u001b[0m\u001b[0;34m(\u001b[0m\u001b[0mself\u001b[0m\u001b[0;34m,\u001b[0m \u001b[0mbaxes\u001b[0m\u001b[0;34m,\u001b[0m \u001b[0mlabels\u001b[0m\u001b[0;34m,\u001b[0m \u001b[0msave_dir\u001b[0m\u001b[0;34m,\u001b[0m \u001b[0mname\u001b[0m\u001b[0;34m)\u001b[0m\u001b[0;34m:\u001b[0m\u001b[0;34m\u001b[0m\u001b[0;34m\u001b[0m\u001b[0m\n",
      "\u001b[0;31mNameError\u001b[0m: name 'baxes' is not defined"
     ]
    }
   ],
   "source": [
    "from loader import DataLoader\n",
    "from model import Rel2Layout, RelEncoder, Rel2Bbox, Rel2RegLayout\n",
    "from trainer import Trainer, PretrainTrainer, RegTrainer\n",
    "from utils import ensure_dir\n",
    "import argparse\n",
    "import cv2\n",
    "from bounding_box import bounding_box as bb\n",
    "import os\n",
    "import numpy as np\n",
    "\n",
    "\n",
    "# parser = argparse.ArgumentParser()\n",
    "# parser.add_argument('--save_dir', type=str, default='saved/pretrained/')\n",
    "# parser.add_argument('--checkpoint', type=str, default=None)\n",
    "# parser.add_argument('--smart_sample', action='store_true', default=False)\n",
    "\n",
    "# opt = parser.parse_args()\n",
    "# ensure_dir(opt.save_dir)\n",
    "\n",
    "class Inference():\n",
    "    def __init__(self, save_dir):\n",
    "        self.save_dir = save_dir\n",
    "        with open('data/rel_dict.pkl', 'rb') as file:\n",
    "            self.vocab_dict = pickle.load(file)\n",
    "        with open('data/cls_dict.pkl', 'rb') as file:\n",
    "            self.cls_dict = pickle.load(file)\n",
    "            \n",
    "    def check_GT(self, idx, all_anns):\n",
    "        image_id = all_anns['image_id'][idx]\n",
    "        size = [all_anns['image_wh'][idx][1],all_anns['image_wh'][idx][0],3]\n",
    "        box_mask = np.array(all_anns['rel_box'][idx]) != 2.\n",
    "        boxes = np.array(all_anns['rel_box'][idx])[box_mask].reshape(-1,4)\n",
    "        boxes = self.xywh2xyxy(boxes, size)\n",
    "        id_mask = np.array(all_anns['id'][idx]) != 0.\n",
    "        ids = np.array(all_anns['id'][idx])[id_mask]\n",
    "        clss = idx2vocab(all_anns['rel'][idx][1::2][all_anns['rel'][idx][1::2] != 0],'text')\n",
    "\n",
    "        self.draw_img(boxes=boxes, labels=clss, save_dir = self.save_dir, name=image_id)\n",
    "        \n",
    "    def draw_img(self, boxes, labels, save_dir, name):\n",
    "        image = np.full(size, 200.)\n",
    "        for i in range(len(boxes)):\n",
    "          bb.add(image, boxes[i][0], boxes[i][1], boxes[i][2], boxes[i][3], str(labels[i]))\n",
    "        self.show_and_save(image, save_path)\n",
    "        print(\"Save image in {}\".format(os.path.join(save_path,str(name)+'.png')))\n",
    "        \n",
    "    def xywh2xyxy(self, boxes, image_wh):\n",
    "        boxes[:,:2] = boxes[:,:2] \n",
    "        boxes[:,2:] = boxes[:,:2] + boxes[:,2:]\n",
    "        boxes[:,0] *= image_wh[0]\n",
    "        boxes[:,1] *= image_wh[1]\n",
    "        boxes[:,2] *= image_wh[0]\n",
    "        boxes[:,3] *= image_wh[1]\n",
    "        return boxes\n",
    "    \n",
    "    def idx2vocab(self, idx, modality):\n",
    "        sent = \"\"\n",
    "        for i in range(len(idx)):\n",
    "            if modality == 'text':\n",
    "                sent += self.vocab_dict[idx[i]]\n",
    "            else:\n",
    "                sent += self.cls_dict[idx[i]]\n",
    "            sent += \" \"\n",
    "        return sentx\n",
    "    \n",
    "    def show_and_save(self, image, path):\n",
    "        cv2.imwrite(path, image)\n",
    "        \n",
    "if __name__ == '__main__':\n",
    "    fn = 'data/vg_anns_45.pkl'\n",
    "    with open(fn, 'rb') as file:\n",
    "        all_anns = pickle.load(file)\n",
    "    infer = Inference(save_dir = './')\n",
    "    infer.check_GT(0, all_anns)"
   ]
  },
  {
   "cell_type": "code",
   "execution_count": null,
   "metadata": {},
   "outputs": [],
   "source": []
  }
 ],
 "metadata": {
  "kernelspec": {
   "display_name": "Python (T2I)",
   "language": "python",
   "name": "env"
  },
  "language_info": {
   "codemirror_mode": {
    "name": "ipython",
    "version": 3
   },
   "file_extension": ".py",
   "mimetype": "text/x-python",
   "name": "python",
   "nbconvert_exporter": "python",
   "pygments_lexer": "ipython3",
   "version": "3.6.8"
  }
 },
 "nbformat": 4,
 "nbformat_minor": 2
}
